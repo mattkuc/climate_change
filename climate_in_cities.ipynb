{
 "cells": [
  {
   "cell_type": "code",
   "execution_count": 7,
   "metadata": {},
   "outputs": [],
   "source": [
    "import csv\n",
    "import pandas as pd\n",
    "\n",
    "data = pd.read_csv('data/GlobalLandTemperaturesByCity.csv',sep=',',index_col=False)\n",
    "\n",
    "poland_data = data[data['Country'] == 'Poland']\n",
    "\n",
    "poland_data.to_csv('poland_data.csv',index=False)"
   ]
  },
  {
   "cell_type": "code",
   "execution_count": 9,
   "metadata": {},
   "outputs": [
    {
     "data": {
      "text/plain": [
       "['Bialystok',\n",
       " 'Bielsko Biala',\n",
       " 'Bydgoszcz',\n",
       " 'Bytom',\n",
       " 'Chorzow',\n",
       " 'Cracow',\n",
       " 'Czestochowa',\n",
       " 'Dabrowa Gornicza',\n",
       " 'Elblag',\n",
       " 'Gdansk',\n",
       " 'Gdynia',\n",
       " 'Gliwice',\n",
       " 'Gorzow Wielkopolski',\n",
       " 'Kalisz',\n",
       " 'Katowice',\n",
       " 'Kielce',\n",
       " 'Koszalin',\n",
       " 'Legnica',\n",
       " 'Lublin',\n",
       " 'Olsztyn',\n",
       " 'Opole',\n",
       " 'Plock',\n",
       " 'Poznan',\n",
       " 'Radom',\n",
       " 'Ruda Slaska',\n",
       " 'Rybnik',\n",
       " 'Rzeszow',\n",
       " 'Sosnowiec',\n",
       " 'Szczecin',\n",
       " 'Tarnow',\n",
       " 'Torun',\n",
       " 'Tychy',\n",
       " 'Walbrzych',\n",
       " 'Warsaw',\n",
       " 'Wloclawek',\n",
       " 'Wroclaw',\n",
       " 'Zabrze',\n",
       " 'Zielona Gora']"
      ]
     },
     "execution_count": 9,
     "metadata": {},
     "output_type": "execute_result"
    }
   ],
   "source": [
    "# Listing unique cities in poland_data\n",
    "\n",
    "list_city = list(pd.unique(poland_data['City']))\n",
    "list_city"
   ]
  }
 ],
 "metadata": {
  "kernelspec": {
   "display_name": "Python 3",
   "language": "python",
   "name": "python3"
  },
  "language_info": {
   "codemirror_mode": {
    "name": "ipython",
    "version": 3
   },
   "file_extension": ".py",
   "mimetype": "text/x-python",
   "name": "python",
   "nbconvert_exporter": "python",
   "pygments_lexer": "ipython3",
   "version": "3.10.5"
  },
  "orig_nbformat": 4
 },
 "nbformat": 4,
 "nbformat_minor": 2
}
